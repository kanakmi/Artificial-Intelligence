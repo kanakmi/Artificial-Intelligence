{
 "cells": [
  {
   "cell_type": "code",
   "execution_count": 1,
   "metadata": {},
   "outputs": [],
   "source": [
    "# Importing the required libraries\n",
    "import numpy as np\n",
    "import pandas as pd\n",
    "import matplotlib.pyplot as plt\n",
    "import cv2\n",
    "import tensorflow as tf\n",
    "from tensorflow import keras\n",
    "from tensorflow.keras.models import Model, load_model"
   ]
  },
  {
   "cell_type": "code",
   "execution_count": 2,
   "metadata": {},
   "outputs": [],
   "source": [
    "# Reading the image in B&W format\n",
    "img = cv2.imread(\"kanak.jpg\", 0)"
   ]
  },
  {
   "cell_type": "code",
   "execution_count": 3,
   "metadata": {},
   "outputs": [],
   "source": [
    "# Converting the image to a numpy array\n",
    "im = np.asarray(img)"
   ]
  },
  {
   "cell_type": "code",
   "execution_count": 4,
   "metadata": {},
   "outputs": [],
   "source": [
    "# Resizing the image to (96, 96) so that it matches the format of the models\n",
    "img = cv2.resize(im, dsize=(96, 96), interpolation = cv2.INTER_CUBIC)"
   ]
  },
  {
   "cell_type": "code",
   "execution_count": 5,
   "metadata": {},
   "outputs": [
    {
     "data": {
      "text/plain": [
       "(96, 96)"
      ]
     },
     "execution_count": 5,
     "metadata": {},
     "output_type": "execute_result"
    }
   ],
   "source": [
    "img.shape"
   ]
  },
  {
   "cell_type": "code",
   "execution_count": 6,
   "metadata": {},
   "outputs": [],
   "source": [
    "# Normalizing the image as in Original Model\n",
    "img = img/255"
   ]
  },
  {
   "cell_type": "code",
   "execution_count": 7,
   "metadata": {},
   "outputs": [],
   "source": [
    "X = np.empty((1, 96, 96, 1))"
   ]
  },
  {
   "cell_type": "code",
   "execution_count": 8,
   "metadata": {},
   "outputs": [],
   "source": [
    "X[0] = np.expand_dims(img, axis = 2)"
   ]
  },
  {
   "cell_type": "code",
   "execution_count": 9,
   "metadata": {},
   "outputs": [
    {
     "data": {
      "text/plain": [
       "array([[[[0.54117647],\n",
       "         [0.45098039],\n",
       "         [0.48235294],\n",
       "         ...,\n",
       "         [0.48627451],\n",
       "         [0.6627451 ],\n",
       "         [0.53333333]],\n",
       "\n",
       "        [[0.51764706],\n",
       "         [0.49411765],\n",
       "         [0.52941176],\n",
       "         ...,\n",
       "         [0.51764706],\n",
       "         [0.6745098 ],\n",
       "         [0.68235294]],\n",
       "\n",
       "        [[0.43529412],\n",
       "         [0.49411765],\n",
       "         [0.51764706],\n",
       "         ...,\n",
       "         [0.42745098],\n",
       "         [0.4745098 ],\n",
       "         [0.6       ]],\n",
       "\n",
       "        ...,\n",
       "\n",
       "        [[0.76470588],\n",
       "         [0.74509804],\n",
       "         [0.67843137],\n",
       "         ...,\n",
       "         [0.25882353],\n",
       "         [0.2745098 ],\n",
       "         [0.30196078]],\n",
       "\n",
       "        [[0.74509804],\n",
       "         [0.68627451],\n",
       "         [0.81960784],\n",
       "         ...,\n",
       "         [0.18039216],\n",
       "         [0.15294118],\n",
       "         [0.23529412]],\n",
       "\n",
       "        [[0.63529412],\n",
       "         [0.8       ],\n",
       "         [0.81568627],\n",
       "         ...,\n",
       "         [0.08627451],\n",
       "         [0.33333333],\n",
       "         [0.28235294]]]])"
      ]
     },
     "execution_count": 9,
     "metadata": {},
     "output_type": "execute_result"
    }
   ],
   "source": [
    "X\n",
    "# Now our image matches the exact format of the 2 Models"
   ]
  },
  {
   "cell_type": "code",
   "execution_count": 10,
   "metadata": {},
   "outputs": [
    {
     "data": {
      "text/plain": [
       "(1, 96, 96, 1)"
      ]
     },
     "execution_count": 10,
     "metadata": {},
     "output_type": "execute_result"
    }
   ],
   "source": [
    "# Convert the array type to float32\n",
    "X = np.asarray(X).astype(np.float32)\n",
    "X.shape"
   ]
  },
  {
   "cell_type": "code",
   "execution_count": 11,
   "metadata": {},
   "outputs": [],
   "source": [
    "with open('FacialKeyPoints-model.json', 'r') as json_file:\n",
    "    json_savedModel= json_file.read()\n",
    "    \n",
    "# load the model architecture \n",
    "model_kp = tf.keras.models.model_from_json(json_savedModel)\n",
    "model_kp.load_weights('FacialKeyPoints_weights.hdf5')\n",
    "adam = tf.keras.optimizers.Adam(learning_rate=0.0001, beta_1=0.9, beta_2=0.999, amsgrad=False)\n",
    "model_kp.compile(loss=\"mean_squared_error\", optimizer= adam , metrics = ['accuracy'])"
   ]
  },
  {
   "cell_type": "code",
   "execution_count": 12,
   "metadata": {},
   "outputs": [],
   "source": [
    "with open('FacialExpression-model.json', 'r') as json_file:\n",
    "    json_savedModel= json_file.read()\n",
    "\n",
    "# load the model architecture \n",
    "model_e = tf.keras.models.model_from_json(json_savedModel)\n",
    "model_e.load_weights('FacialExpression_weights.hdf5')\n",
    "model_e.compile(optimizer = \"Adam\", loss = \"categorical_crossentropy\", metrics = [\"accuracy\"])"
   ]
  },
  {
   "cell_type": "code",
   "execution_count": 13,
   "metadata": {
    "scrolled": false
   },
   "outputs": [
    {
     "data": {
      "text/html": [
       "<div>\n",
       "<style scoped>\n",
       "    .dataframe tbody tr th:only-of-type {\n",
       "        vertical-align: middle;\n",
       "    }\n",
       "\n",
       "    .dataframe tbody tr th {\n",
       "        vertical-align: top;\n",
       "    }\n",
       "\n",
       "    .dataframe thead th {\n",
       "        text-align: right;\n",
       "    }\n",
       "</style>\n",
       "<table border=\"1\" class=\"dataframe\">\n",
       "  <thead>\n",
       "    <tr style=\"text-align: right;\">\n",
       "      <th></th>\n",
       "      <th>0</th>\n",
       "      <th>1</th>\n",
       "      <th>2</th>\n",
       "      <th>3</th>\n",
       "      <th>4</th>\n",
       "      <th>5</th>\n",
       "      <th>6</th>\n",
       "      <th>7</th>\n",
       "      <th>8</th>\n",
       "      <th>9</th>\n",
       "      <th>...</th>\n",
       "      <th>21</th>\n",
       "      <th>22</th>\n",
       "      <th>23</th>\n",
       "      <th>24</th>\n",
       "      <th>25</th>\n",
       "      <th>26</th>\n",
       "      <th>27</th>\n",
       "      <th>28</th>\n",
       "      <th>29</th>\n",
       "      <th>emotion</th>\n",
       "    </tr>\n",
       "  </thead>\n",
       "  <tbody>\n",
       "    <tr>\n",
       "      <th>0</th>\n",
       "      <td>32.685936</td>\n",
       "      <td>40.004128</td>\n",
       "      <td>66.744858</td>\n",
       "      <td>39.345627</td>\n",
       "      <td>39.795273</td>\n",
       "      <td>41.216526</td>\n",
       "      <td>25.267458</td>\n",
       "      <td>40.661774</td>\n",
       "      <td>59.57523</td>\n",
       "      <td>40.814671</td>\n",
       "      <td>...</td>\n",
       "      <td>62.320068</td>\n",
       "      <td>34.041359</td>\n",
       "      <td>75.786011</td>\n",
       "      <td>67.297966</td>\n",
       "      <td>75.410484</td>\n",
       "      <td>50.588543</td>\n",
       "      <td>76.931679</td>\n",
       "      <td>50.74192</td>\n",
       "      <td>80.191307</td>\n",
       "      <td>3</td>\n",
       "    </tr>\n",
       "  </tbody>\n",
       "</table>\n",
       "<p>1 rows × 31 columns</p>\n",
       "</div>"
      ],
      "text/plain": [
       "           0          1          2          3          4          5  \\\n",
       "0  32.685936  40.004128  66.744858  39.345627  39.795273  41.216526   \n",
       "\n",
       "           6          7         8          9  ...         21         22  \\\n",
       "0  25.267458  40.661774  59.57523  40.814671  ...  62.320068  34.041359   \n",
       "\n",
       "          23         24         25         26         27        28         29  \\\n",
       "0  75.786011  67.297966  75.410484  50.588543  76.931679  50.74192  80.191307   \n",
       "\n",
       "   emotion  \n",
       "0        3  \n",
       "\n",
       "[1 rows x 31 columns]"
      ]
     },
     "execution_count": 13,
     "metadata": {},
     "output_type": "execute_result"
    }
   ],
   "source": [
    "# Making prediction from the keypoint model\n",
    "df_predict = model_kp.predict(X)\n",
    "\n",
    "# Making prediction from the emotion model\n",
    "df_emotion = np.argmax(model_e.predict(X), axis=-1)\n",
    "\n",
    "# Reshaping array from (856,) to (856,1)\n",
    "df_emotion = np.expand_dims(df_emotion, axis = 1)\n",
    "\n",
    "# Converting the predictions into a dataframe\n",
    "df_predict = pd.DataFrame(df_predict)\n",
    "\n",
    "# Adding emotion into the predicted dataframe\n",
    "df_predict['emotion'] = df_emotion\n",
    "\n",
    "df_predict"
   ]
  },
  {
   "cell_type": "code",
   "execution_count": 14,
   "metadata": {},
   "outputs": [],
   "source": [
    "# Same format as the Facial Expression model\n",
    "label_to_text = {0:'anger', 1:'disgust', 2:'sad', 3:'happiness', 4: 'surprise'}"
   ]
  },
  {
   "cell_type": "code",
   "execution_count": 15,
   "metadata": {},
   "outputs": [
    {
     "data": {
      "image/png": "[encoded data removed]",
      "text/plain": [
       "<Figure size 432x288 with 1 Axes>"
      ]
     },
     "metadata": {
      "needs_background": "light"
     },
     "output_type": "display_data"
    }
   ],
   "source": [
    "plt.imshow(img, cmap='gray')\n",
    "plt.title('Prediction = {}'.format(label_to_text[df_predict['emotion'][0]]))\n",
    "for i in range(1, 31, 2):\n",
    "    plt.plot(df_predict.loc[0][i-1], df_predict.loc[0][i], 'rx')"
   ]
  }
 ],
 "metadata": {
  "kernelspec": {
   "display_name": "Python 3",
   "language": "python",
   "name": "python3"
  },
  "language_info": {
   "codemirror_mode": {
    "name": "ipython",
    "version": 3
   },
   "file_extension": ".py",
   "mimetype": "text/x-python",
   "name": "python",
   "nbconvert_exporter": "python",
   "pygments_lexer": "ipython3",
   "version": "3.8.3"
  }
 },
 "nbformat": 4,
 "nbformat_minor": 4
}
